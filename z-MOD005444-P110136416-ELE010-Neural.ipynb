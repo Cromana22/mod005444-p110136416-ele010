{
  "cells": [
    {
      "cell_type": "markdown",
      "metadata": {},
      "source": [
        "**Import dependancies**"
      ]
    },
    {
      "cell_type": "code",
      "execution_count": 622,
      "metadata": {
        "colab": {},
        "colab_type": "code",
        "id": "X9uIpOS2zx7k"
      },
      "outputs": [],
      "source": [
        "from __future__ import absolute_import, division, print_function, unicode_literals\n",
        "import tensorflow\n",
        "import numpy\n",
        "import pandas\n",
        "from sklearn import tree, metrics\n",
        "from sklearn.preprocessing import StandardScaler\n",
        "from sklearn.metrics import ConfusionMatrixDisplay\n",
        "import matplotlib.pyplot as plt"
      ]
    },
    {
      "cell_type": "markdown",
      "metadata": {},
      "source": [
        "**Import the dataset**"
      ]
    },
    {
      "cell_type": "code",
      "execution_count": 623,
      "metadata": {},
      "outputs": [],
      "source": [
        "dataSet = pandas.read_csv(\"z-AssignmentTrainingData100-JamieComplex.csv\")\n",
        "#print(dataSet)"
      ]
    },
    {
      "cell_type": "markdown",
      "metadata": {},
      "source": [
        "**Convert non-numerical fields to numerical values**"
      ]
    },
    {
      "cell_type": "code",
      "execution_count": 624,
      "metadata": {},
      "outputs": [],
      "source": [
        "convert = {True: 1, False: 0}\n",
        "dataSet['SuccessTF'] = dataSet['SuccessTF'].map(convert)\n",
        "#print(dataSet)"
      ]
    },
    {
      "cell_type": "markdown",
      "metadata": {},
      "source": [
        "**Divide the data into features (Attributes), and output (labels)**"
      ]
    },
    {
      "cell_type": "code",
      "execution_count": 625,
      "metadata": {},
      "outputs": [],
      "source": [
        "features = ['OvertakingSpeedMPS', 'OncomingSpeedMPS', 'InitialSeparationM']\n",
        "input = dataSet[features]\n",
        "output = dataSet['SuccessTF']\n",
        "#print(input)\n",
        "#print(output)"
      ]
    },
    {
      "cell_type": "markdown",
      "metadata": {},
      "source": [
        "**SKLEARN has the ability to automtically split dataset into training and testing data**"
      ]
    },
    {
      "cell_type": "code",
      "execution_count": 626,
      "metadata": {},
      "outputs": [],
      "source": [
        "from sklearn.model_selection import train_test_split\n",
        "input_train, input_test, output_train, output_test = train_test_split(input, output, test_size=0.2, random_state=0)"
      ]
    },
    {
      "cell_type": "markdown",
      "metadata": {
        "colab_type": "text",
        "id": "VM7_9Klvq7MO"
      },
      "source": [
        "**Create the layers**\n",
        "*   `input_shape=[3]` — This specifies that the input to this layer is 3 values.\n",
        "*   `units=1` — This specifies the number of neurons in the layer, also the size of the model's output which must match the `input_shape` of the next layer.\n",
        "\n",
        "Layers after the first only need the units value as it will inherit the input_shape from the previous layer."
      ]
    },
    {
      "cell_type": "code",
      "execution_count": 627,
      "metadata": {
        "colab": {},
        "colab_type": "code",
        "id": "pRllo2HLfXiu"
      },
      "outputs": [],
      "source": [
        "l0 = tensorflow.keras.layers.Dense(input_shape=[3], units=4)\n",
        "l1 = tensorflow.keras.layers.Dense(units=1)"
      ]
    },
    {
      "cell_type": "markdown",
      "metadata": {
        "colab_type": "text",
        "id": "_F00_J9duLBD"
      },
      "source": [
        "**Once layers are defined, they need to be assembled into a model. The Sequential model definition takes a list of layers as argument, specifying the calculation order from the input to the output.**"
      ]
    },
    {
      "cell_type": "code",
      "execution_count": 628,
      "metadata": {
        "colab": {},
        "colab_type": "code",
        "id": "cSp-GpLSuMRq"
      },
      "outputs": [],
      "source": [
        "model = tensorflow.keras.Sequential([l0, l1])"
      ]
    },
    {
      "cell_type": "markdown",
      "metadata": {
        "colab_type": "text",
        "id": "kiZG7uhm8qCF"
      },
      "source": [
        "**Before training, the model has to be compiled.**\n",
        "- Loss function: A way of measuring how far off predictions are from the desired outcome. (The measured difference is called the \"loss\".)\n",
        "- Optimizer function(Learning Rate): A way of adjusting internal values in order to reduce the loss.The learning rate is the step size taken when adjusting values in the model.\n",
        "\n",
        "The loss function used here are standard for simple models.\n",
        "Learning rate range is usually within 0.001 (default), and 0.1."
      ]
    },
    {
      "cell_type": "code",
      "execution_count": 629,
      "metadata": {
        "colab": {},
        "colab_type": "code",
        "id": "m8YQN1H41L-Y"
      },
      "outputs": [],
      "source": [
        "model.compile(loss='mean_squared_error', optimizer=tensorflow.keras.optimizers.Adam(0.05))"
      ]
    },
    {
      "cell_type": "markdown",
      "metadata": {
        "colab_type": "text",
        "id": "c-Jk4dG91dvD"
      },
      "source": [
        "**Train the model by calling the `fit` method.**\n",
        "\n",
        "The first argument is the inputs, the second argument is the desired outputs. The `epochs` argument specifies how many times this cycle should be run, and the `verbose` argument controls how much output the method produces."
      ]
    },
    {
      "cell_type": "code",
      "execution_count": 630,
      "metadata": {
        "colab": {},
        "colab_type": "code",
        "id": "lpRrl7WK10Pq"
      },
      "outputs": [
        {
          "name": "stdout",
          "output_type": "stream",
          "text": [
            "Finished training model\n"
          ]
        }
      ],
      "source": [
        "history = model.fit(input_train, output_train, epochs=100, verbose=False)\n",
        "print(\"Finished training model\")"
      ]
    },
    {
      "cell_type": "markdown",
      "metadata": {
        "colab_type": "text",
        "id": "0-QsNCLD4MJZ"
      },
      "source": [
        "**Visualise the training.**\n",
        "The `fit` method returns a history object. We can use this object to plot how the loss of our model goes down after each training epoch. A high loss means that the predicted output is far from the expected output."
      ]
    },
    {
      "cell_type": "code",
      "execution_count": 631,
      "metadata": {
        "colab": {},
        "colab_type": "code",
        "id": "IeK6BzfbdO6_"
      },
      "outputs": [
        {
          "data": {
            "text/plain": [
              "[<matplotlib.lines.Line2D at 0x2610baade10>]"
            ]
          },
          "execution_count": 631,
          "metadata": {},
          "output_type": "execute_result"
        },
        {
          "data": {
            "image/png": "[encoded data removed]",
            "text/plain": [
              "<Figure size 640x480 with 1 Axes>"
            ]
          },
          "metadata": {},
          "output_type": "display_data"
        }
      ],
      "source": [
        "plt.xlabel('Epoch Number')\n",
        "plt.ylabel('Loss Magnitude')\n",
        "plt.plot(history.history['loss'])"
      ]
    },
    {
      "cell_type": "markdown",
      "metadata": {},
      "source": [
        "**Use the model to test predict new things**\n",
        "\n",
        "**Round the result in case its not a whole number before convert to normal text**\n",
        "<br>`def` is short for definition - it is the python way of defining a method/function"
      ]
    },
    {
      "cell_type": "code",
      "execution_count": 632,
      "metadata": {},
      "outputs": [
        {
          "name": "stdout",
          "output_type": "stream",
          "text": [
            "1/1 [==============================] - 0s 49ms/step\n",
            "Predicted Output:  [1, 1, 1, 1, 0, 1, 0, 0, 1, 1, 0, 0, 1, 1, 1, 1, 1, 1, 0, 1]\n",
            "Expected Output:   [1, 1, 1, 1, 0, 1, 0, 0, 1, 1, 0, 0, 1, 0, 1, 1, 1, 1, 0, 1]\n"
          ]
        }
      ],
      "source": [
        "outcome = model.predict(input_test)\n",
        "\n",
        "def round_half_up(n, decimals=0):\n",
        "    multiplier = 10 ** decimals\n",
        "    return numpy.floor(n*multiplier + 0.5) / multiplier\n",
        "\n",
        "outcome = round_half_up(outcome, decimals=0)\n",
        "outcome = [int(result) for result in outcome]\n",
        "print('Predicted Output: ', outcome)\n",
        "print('Expected Output:  ', output_test.to_list())"
      ]
    },
    {
      "cell_type": "markdown",
      "metadata": {},
      "source": [
        "**Evaluate how good the algorithm is:**\n",
        "<br>You can use different metrics to evaluate an algorithm:\n",
        "- mean absolute error (expect to be within 10% of range of values)\n",
        "- root mean squared error (expect to be within 10% of average)\n",
        "- F1 score (the closer to 1 is better, expect within 10%)(Sharma, 2020)"
      ]
    },
    {
      "cell_type": "code",
      "execution_count": 633,
      "metadata": {},
      "outputs": [
        {
          "name": "stdout",
          "output_type": "stream",
          "text": [
            "Mean Absolute Error: 0.05\n",
            "Root Mean Squared Error: 0.22360679774997896\n",
            "\u001b[91mRSME indicates your algorithm needs improving\u001b[0m\n",
            "F1 Score: 0.962962962962963\n"
          ]
        },
        {
          "data": {
            "image/png": "[encoded data removed]",
            "text/plain": [
              "<Figure size 640x480 with 2 Axes>"
            ]
          },
          "metadata": {},
          "output_type": "display_data"
        }
      ],
      "source": [
        "mae = metrics.mean_absolute_error(output_test, outcome)\n",
        "print('Mean Absolute Error:', mae)\n",
        "maeCheck = (max(output_test)-min(output_test))*0.1\n",
        "if mae > maeCheck:\n",
        "    print('\\033[91m'+'MAE indicates your algorithm needs improving'+'\\033[0m')\n",
        "\n",
        "evalValue = numpy.sqrt(metrics.mean_squared_error(output_test, outcome))\n",
        "print('Root Mean Squared Error:', evalValue)\n",
        "avgOutput = numpy.average(output)\n",
        "if evalValue > avgOutput*0.1:\n",
        "    print('\\033[91m'+'RSME indicates your algorithm needs improving'+'\\033[0m')\n",
        "\n",
        "f1 = metrics.f1_score(output_test, outcome)\n",
        "print('F1 Score:', f1)\n",
        "f1Check = 0.9\n",
        "if f1 < f1Check:\n",
        "    print('\\033[91m'+'F1 Score indicates your algorithm needs improving'+'\\033[0m')\n",
        "\n",
        "confusion_matrix = metrics.confusion_matrix(output_test, outcome)\n",
        "cm_display = metrics.ConfusionMatrixDisplay(confusion_matrix = confusion_matrix, display_labels = [False, True])\n",
        "cm_display.plot()\n",
        "plt.show()"
      ]
    }
  ],
  "metadata": {
    "colab": {
      "collapsed_sections": [],
      "include_colab_link": true,
      "name": "Workbook - Celsius to Fahrenheit.ipynb",
      "private_outputs": true,
      "provenance": [],
      "toc_visible": true
    },
    "kernelspec": {
      "display_name": "Python 3.10.7 ('.venv': venv)",
      "language": "python",
      "name": "python3"
    },
    "language_info": {
      "codemirror_mode": {
        "name": "ipython",
        "version": 3
      },
      "file_extension": ".py",
      "mimetype": "text/x-python",
      "name": "python",
      "nbconvert_exporter": "python",
      "pygments_lexer": "ipython3",
      "version": "3.10.7"
    },
    "vscode": {
      "interpreter": {
        "hash": "35779e2d2f5bf04a0e69f40f9c83d7fc62f08f9797a1446ec9ede199244403b5"
      }
    }
  },
  "nbformat": 4,
  "nbformat_minor": 0
}
