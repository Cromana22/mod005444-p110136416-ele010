{
  "cells": [
    {
      "cell_type": "markdown",
      "metadata": {},
      "source": [
        "**Import dependancies**"
      ]
    },
    {
      "cell_type": "code",
      "execution_count": 344,
      "metadata": {
        "colab": {},
        "colab_type": "code",
        "id": "X9uIpOS2zx7k"
      },
      "outputs": [],
      "source": [
        "from __future__ import absolute_import, division, print_function, unicode_literals\n",
        "import tensorflow\n",
        "import numpy\n",
        "import pandas\n",
        "from sklearn import tree, metrics\n",
        "from sklearn.preprocessing import StandardScaler\n",
        "import matplotlib.pyplot as plt"
      ]
    },
    {
      "cell_type": "markdown",
      "metadata": {},
      "source": [
        "**Import the dataset**"
      ]
    },
    {
      "cell_type": "code",
      "execution_count": 345,
      "metadata": {},
      "outputs": [],
      "source": [
        "dataSet = pandas.read_csv(\"z-AssignmentTrainingData100.csv\")\n",
        "#print(dataSet)"
      ]
    },
    {
      "cell_type": "markdown",
      "metadata": {},
      "source": [
        "**Convert non-numerical fields to numerical values**"
      ]
    },
    {
      "cell_type": "code",
      "execution_count": 346,
      "metadata": {},
      "outputs": [],
      "source": [
        "convert = {True: 1, False: 0}\n",
        "dataSet['SuccessTF'] = dataSet['SuccessTF'].map(convert)\n",
        "#print(dataSet)"
      ]
    },
    {
      "cell_type": "markdown",
      "metadata": {},
      "source": [
        "**Divide the data into features (Attributes), and output (labels)**"
      ]
    },
    {
      "cell_type": "code",
      "execution_count": 347,
      "metadata": {},
      "outputs": [],
      "source": [
        "features = ['OvertakingSpeedMPS', 'OncomingSpeedMPS', 'InitialSeparationM']\n",
        "input = dataSet[features]\n",
        "output = dataSet['SuccessTF']\n",
        "#print(input)\n",
        "#print(output)"
      ]
    },
    {
      "cell_type": "markdown",
      "metadata": {},
      "source": [
        "**SKLEARN has the ability to automtically split dataset into training and testing data**"
      ]
    },
    {
      "cell_type": "code",
      "execution_count": 348,
      "metadata": {},
      "outputs": [],
      "source": [
        "from sklearn.model_selection import train_test_split\n",
        "input_train, input_test, output_train, output_test = train_test_split(input, output, test_size=0.2, random_state=0)"
      ]
    },
    {
      "cell_type": "markdown",
      "metadata": {
        "colab_type": "text",
        "id": "VM7_9Klvq7MO"
      },
      "source": [
        "**Create the layers**\n",
        "*   `input_shape=[3]` — This specifies that the input to this layer is 3 values.\n",
        "*   `units=1` — This specifies the number of neurons in the layer, also the size of the model's output which must match the `input_shape` of the next layer.\n",
        "\n",
        "Layers after the first only need the units value as it will inherit the input_shape from the previous layer."
      ]
    },
    {
      "cell_type": "code",
      "execution_count": 349,
      "metadata": {
        "colab": {},
        "colab_type": "code",
        "id": "pRllo2HLfXiu"
      },
      "outputs": [],
      "source": [
        "l0 = tensorflow.keras.layers.Dense(input_shape=[3], units=4)\n",
        "l1 = tensorflow.keras.layers.Dense(units=2)\n",
        "l2 = tensorflow.keras.layers.Dense(units=1)\n",
        "l3 = tensorflow.keras.layers.Dense(units=1)\n",
        "l4 = tensorflow.keras.layers.Dense(units=1)"
      ]
    },
    {
      "cell_type": "markdown",
      "metadata": {
        "colab_type": "text",
        "id": "_F00_J9duLBD"
      },
      "source": [
        "**Once layers are defined, they need to be assembled into a model. The Sequential model definition takes a list of layers as argument, specifying the calculation order from the input to the output.**"
      ]
    },
    {
      "cell_type": "code",
      "execution_count": 350,
      "metadata": {
        "colab": {},
        "colab_type": "code",
        "id": "cSp-GpLSuMRq"
      },
      "outputs": [],
      "source": [
        "model = tensorflow.keras.Sequential([l0, l1, l2])"
      ]
    },
    {
      "cell_type": "markdown",
      "metadata": {
        "colab_type": "text",
        "id": "kiZG7uhm8qCF"
      },
      "source": [
        "**Before training, the model has to be compiled.**\n",
        "- Loss function: A way of measuring how far off predictions are from the desired outcome. (The measured difference is called the \"loss\".)\n",
        "- Optimizer function(Learning Rate): A way of adjusting internal values in order to reduce the loss.The learning rate is the step size taken when adjusting values in the model.\n",
        "\n",
        "The loss function used here are standard for simple models.\n",
        "Learning rate range is usually within 0.001 (default), and 0.1."
      ]
    },
    {
      "cell_type": "code",
      "execution_count": 351,
      "metadata": {
        "colab": {},
        "colab_type": "code",
        "id": "m8YQN1H41L-Y"
      },
      "outputs": [],
      "source": [
        "model.compile(loss='mean_squared_error', optimizer=tensorflow.keras.optimizers.Adam(0.05))"
      ]
    },
    {
      "cell_type": "markdown",
      "metadata": {
        "colab_type": "text",
        "id": "c-Jk4dG91dvD"
      },
      "source": [
        "**Train the model by calling the `fit` method.**\n",
        "\n",
        "The first argument is the inputs, the second argument is the desired outputs. The `epochs` argument specifies how many times this cycle should be run, and the `verbose` argument controls how much output the method produces."
      ]
    },
    {
      "cell_type": "code",
      "execution_count": 352,
      "metadata": {
        "colab": {},
        "colab_type": "code",
        "id": "lpRrl7WK10Pq"
      },
      "outputs": [
        {
          "name": "stdout",
          "output_type": "stream",
          "text": [
            "Finished training model\n"
          ]
        }
      ],
      "source": [
        "history = model.fit(input_train, output_train, epochs=200, verbose=False)\n",
        "print(\"Finished training model\")"
      ]
    },
    {
      "cell_type": "markdown",
      "metadata": {
        "colab_type": "text",
        "id": "0-QsNCLD4MJZ"
      },
      "source": [
        "**Visualise the training.**\n",
        "The `fit` method returns a history object. We can use this object to plot how the loss of our model goes down after each training epoch. A high loss means that the predicted output is far from the expected output."
      ]
    },
    {
      "cell_type": "code",
      "execution_count": 353,
      "metadata": {
        "colab": {},
        "colab_type": "code",
        "id": "IeK6BzfbdO6_"
      },
      "outputs": [
        {
          "data": {
            "text/plain": [
              "[<matplotlib.lines.Line2D at 0x1c57ab81e10>]"
            ]
          },
          "execution_count": 353,
          "metadata": {},
          "output_type": "execute_result"
        },
        {
          "data": {
            "image/png": "[encoded data removed]",
            "text/plain": [
              "<Figure size 640x480 with 1 Axes>"
            ]
          },
          "metadata": {},
          "output_type": "display_data"
        }
      ],
      "source": [
        "plt.xlabel('Epoch Number')\n",
        "plt.ylabel('Loss Magnitude')\n",
        "plt.plot(history.history['loss'])"
      ]
    },
    {
      "cell_type": "markdown",
      "metadata": {},
      "source": [
        "**Use the model to test predict new things**"
      ]
    },
    {
      "cell_type": "code",
      "execution_count": 354,
      "metadata": {},
      "outputs": [
        {
          "name": "stdout",
          "output_type": "stream",
          "text": [
            "1/1 [==============================] - 0s 50ms/step\n",
            "Mean Absolute Error: 0.24434438943862916\n",
            "\u001b[91mMAE indicates your algorithm needs improving\u001b[0m\n",
            "Root Mean Squared Error: 0.3061031003107067\n",
            "\u001b[91mRSME indicates your algorithm needs improving\u001b[0m\n"
          ]
        }
      ],
      "source": [
        "outcome = model.predict(input_test)\n",
        "\n",
        "mae = metrics.mean_absolute_error(output_test, outcome)\n",
        "print('Mean Absolute Error:', mae)\n",
        "maeCheck = (max(output_test)-min(output_test))*0.1\n",
        "if mae > maeCheck:\n",
        "    print('\\033[91m'+'MAE indicates your algorithm needs improving'+'\\033[0m')\n",
        "\n",
        "\n",
        "evalValue = numpy.sqrt(metrics.mean_squared_error(output_test, outcome))\n",
        "print('Root Mean Squared Error:', evalValue)\n",
        "avgOutput = numpy.average(output)\n",
        "if evalValue > avgOutput*0.1:\n",
        "    print('\\033[91m'+'RSME indicates your algorithm needs improving'+'\\033[0m')"
      ]
    },
    {
      "cell_type": "markdown",
      "metadata": {
        "colab_type": "text",
        "id": "xrpFFlgYhCty"
      },
      "source": [
        "You can use more layers but when you look at the variables, they are nothing even close to ~1.8 and ~32. The added complexity hides the \"simple\" form of the conversion equation."
      ]
    },
    {
      "cell_type": "markdown",
      "metadata": {
        "colab_type": "text",
        "id": "zRrOky5gm20Z"
      },
      "source": [
        "We can look at the internal variables of the Dense layer. \n",
        "For a single neuron with a single input and a single output, the internal math looks the same as [the equation for a line].\n",
        "$y = mx + b$\n",
        "\n",
        "We are looking for variables 52000, 990, 16..."
      ]
    },
    {
      "cell_type": "markdown",
      "metadata": {
        "colab": {},
        "colab_type": "code",
        "id": "kmIkVdkbnZJI"
      },
      "source": [
        "print(\"These are the layer variables: {}\".format(l0.get_weights()))"
      ]
    }
  ],
  "metadata": {
    "colab": {
      "collapsed_sections": [],
      "include_colab_link": true,
      "name": "Workbook - Celsius to Fahrenheit.ipynb",
      "private_outputs": true,
      "provenance": [],
      "toc_visible": true
    },
    "kernelspec": {
      "display_name": "Python 3.10.7 ('.venv': venv)",
      "language": "python",
      "name": "python3"
    },
    "language_info": {
      "codemirror_mode": {
        "name": "ipython",
        "version": 3
      },
      "file_extension": ".py",
      "mimetype": "text/x-python",
      "name": "python",
      "nbconvert_exporter": "python",
      "pygments_lexer": "ipython3",
      "version": "3.10.7"
    },
    "vscode": {
      "interpreter": {
        "hash": "2e8d9b9ef4a819f8e3aeb8b5c76e349999e0c84227ee5d8e984299849238b4e8"
      }
    }
  },
  "nbformat": 4,
  "nbformat_minor": 0
}
